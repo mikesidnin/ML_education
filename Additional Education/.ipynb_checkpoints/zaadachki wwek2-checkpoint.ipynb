{
 "cells": [
  {
   "cell_type": "markdown",
   "id": "13d7887e-9924-4f31-9172-3f98b31c0e7a",
   "metadata": {},
   "source": [
    "**Задача 1**\n",
    "\n",
    "Напишите программу, которая считывает с консоли числа (по одному в строке) до тех пор, пока сумма введённых чисел не будет равна 0 и сразу после этого выводит сумму квадратов всех считанных чисел.\n",
    "\n",
    "Гарантируется, что в какой-то момент сумма введённых чисел окажется равной 0, после этого считывание продолжать не нужно.\n",
    "\n",
    "В примере мы считываем числа 1, -3, 5, -6, -10, 13; в этот момент замечаем, что сумма этих чисел равна нулю и выводим сумму их квадратов, не обращая внимания на то, что остались ещё не прочитанные значения."
   ]
  },
  {
   "cell_type": "code",
   "execution_count": null,
   "id": "d067e530-2267-4043-a724-49c822e24fb9",
   "metadata": {},
   "outputs": [],
   "source": [
    "summ = 1\n",
    "summa = 0\n",
    "sq_sum = 0\n",
    "\n",
    "while summ != 0:\n",
    "    a = int(input())\n",
    "    summa = summa + a\n",
    "    summ = summa\n",
    "    sq_sum = sq_sum + a ** 2\n",
    "    if summ == 0:\n",
    "        print(sq_sum)"
   ]
  },
  {
   "cell_type": "markdown",
   "id": "275fa09b-1013-423d-88cf-e00b24ef989b",
   "metadata": {},
   "source": [
    "**Задача 2**\n",
    "\n",
    "Напишите программу, которая выводит часть последовательности 1 2 2 3 3 3 4 4 4 4 5 5 5 5 5 ... (число повторяется столько раз, чему равно). На вход программе передаётся неотрицательное целое число n — столько элементов последовательности должна отобразить программа. На выходе ожидается последовательность чисел, записанных через пробел в одну строку.\n",
    "\n",
    "Например, если n = 7, то программа должна вывести 1 2 2 3 3 3 4."
   ]
  },
  {
   "cell_type": "code",
   "execution_count": 2,
   "id": "6ad94c02-c3b7-4876-ab2f-5b25e87b5407",
   "metadata": {},
   "outputs": [
    {
     "name": "stdin",
     "output_type": "stream",
     "text": [
      " 8\n"
     ]
    },
    {
     "name": "stdout",
     "output_type": "stream",
     "text": [
      "1 2 2 3 3 3 4 4\n"
     ]
    }
   ],
   "source": [
    "a = int(input())\n",
    "b=[]\n",
    "\n",
    "for i in range(1, a+1):\n",
    "    for j in range(1, i + 1):\n",
    "        b.append(i)\n",
    "b = b[:a]         \n",
    "print(*b)"
   ]
  },
  {
   "cell_type": "markdown",
   "id": "bd9d5be2-f494-4954-99bf-9fdf3409f94c",
   "metadata": {},
   "source": [
    "**Задача 3**\n",
    "\n",
    "Напишите программу, которая считывает список чисел **lst** из первой строки и число **X** из второй строки, которая выводит все позиции, на которых встречается число x в переданном списке **lst**.\n",
    "\n",
    "Позиции нумеруются с нуля, если число xx не встречается в списке, вывести строку \"Отсутствует\" (без кавычек, с большой буквы).\n",
    "\n",
    "Позиции должны быть выведены в одну строку, по возрастанию абсолютного значения."
   ]
  },
  {
   "cell_type": "code",
   "execution_count": 11,
   "id": "25213853-c274-4f75-bbc7-c1d7d75fc2b3",
   "metadata": {},
   "outputs": [
    {
     "name": "stdin",
     "output_type": "stream",
     "text": [
      " 2 4 3 2 2\n",
      " 2\n"
     ]
    },
    {
     "name": "stdout",
     "output_type": "stream",
     "text": [
      "0 3 4\n"
     ]
    }
   ],
   "source": [
    "lst = [int(i) for i in input().split()]\n",
    "x = int(input())\n",
    "\n",
    "result = []\n",
    "\n",
    "if x not in lst:\n",
    "    print('Отсутствует')\n",
    "else:\n",
    "    for i in range(len(lst)):\n",
    "        if x == lst[i]:\n",
    "            result.append(i)\n",
    "    print(*result)"
   ]
  },
  {
   "cell_type": "markdown",
   "id": "80ad89e6-0c38-4f80-bb02-cea295484030",
   "metadata": {},
   "source": [
    "**Задача 4**\n",
    "\n",
    "Напишите программу, на вход которой подаётся прямоугольная матрица в виде последовательности строк. После последней строки матрицы идёт строка, содержащая только строку \"end\" (без кавычек, см. Sample Input).\n",
    "\n",
    "Программа должна вывести матрицу того же размера, у которой каждый элемент в позиции i, j равен сумме элементов первой матрицы на позициях (i-1, j), (i+1, j), (i, j-1), (i, j+1). У крайних символов соседний элемент находится с противоположной стороны матрицы.\n",
    "\n",
    "В случае одной строки/столбца элемент сам себе является соседом по соответствующему направлению."
   ]
  },
  {
   "cell_type": "code",
   "execution_count": 60,
   "id": "7f576129-d6a0-47ab-a116-bf20bf2e482c",
   "metadata": {},
   "outputs": [
    {
     "name": "stdin",
     "output_type": "stream",
     "text": [
      " 9 5 3\n",
      " 0 7 -1\n",
      " -5 2 9\n",
      " end\n"
     ]
    },
    {
     "name": "stdout",
     "output_type": "stream",
     "text": [
      "3 21 22 \n",
      "10 6 19 \n",
      "20 16 -1 \n"
     ]
    }
   ],
   "source": [
    "end = ['end']\n",
    "a = []\n",
    "\n",
    "while end not in a:\n",
    "    a.append(input().split())\n",
    "    \n",
    "a.remove(['end'])\n",
    "\n",
    "max_i = len(a)\n",
    "max_j = len(a[0])\n",
    "\n",
    "result = [[0 for j in range(max_j)] for i in range(max_i)]\n",
    "\n",
    "for i in range(max_i):\n",
    "    for j in range(max_j):\n",
    "        a[i][j]=int(a[i][j])\n",
    "\n",
    "for i in range(max_i):\n",
    "    for j in range(max_j):\n",
    "        if i == max_i - 1 and j != max_j - 1:\n",
    "            result[i][j] = a[i-1][j] + a[0][j] + a[i][j-1] + a[i][j+1]\n",
    "        elif i != max_i - 1 and j == max_j - 1:\n",
    "            result[i][j] = a[i-1][j] + a[i+1][j] + a[i][j-1] + a[i][0]\n",
    "        elif i == max_i - 1 and j == max_j - 1:\n",
    "            result[i][j] = a[i-1][j] + a[0][j] + a[i][j-1] + a[i][0]\n",
    "        else:\n",
    "            result[i][j] = a[i-1][j] + a[i+1][j] + a[i][j-1] + a[i][j+1]\n",
    "\n",
    "for i in result:\n",
    "    for j in i:\n",
    "        print(j, end=\" \")\n",
    "    print()            \n"
   ]
  },
  {
   "cell_type": "markdown",
   "id": "dc1ecc96-c5d9-46dd-82e3-df5fc1dd7a30",
   "metadata": {},
   "source": [
    "**Задача 5**\n",
    "\n",
    "Выведите таблицу размером n x n, заполненную числами от 1 до n^2 по спирали, выходящей из левого верхнего угла и закрученной по часовой стрелке, как показано в примере (здесь n=5):"
   ]
  },
  {
   "cell_type": "code",
   "execution_count": 78,
   "id": "5f6dbfb1-95e4-4b94-899c-e74a01cafdb4",
   "metadata": {},
   "outputs": [
    {
     "name": "stdin",
     "output_type": "stream",
     "text": [
      " 5\n"
     ]
    },
    {
     "name": "stdout",
     "output_type": "stream",
     "text": [
      "1 2 3 4 5 \n",
      "16 17 18 19 6 \n",
      "15 24 25 20 7 \n",
      "14 23 22 21 8 \n",
      "13 12 11 10 9 \n"
     ]
    }
   ],
   "source": [
    "a = int(input())\n",
    "\n",
    "rez = [[0 for j in range(a)] for i in range(a)]\n",
    "\n",
    "turn = 2 * a \n",
    "\n",
    "for turn in range(turn):\n",
    "    i = 0\n",
    "    j = 0\n",
    "    if turn % 4 == 0:\n",
    "        i = turn // 4\n",
    "        for j in range(i, a - i):\n",
    "            rez[i][j] = rez[i][j-1] + 1\n",
    "    if turn % 4 == 1:\n",
    "        j = a - 1 - turn // 4\n",
    "        for i in range(a - j, j + 1):\n",
    "            rez[i][j] = rez[i - 1][j] + 1\n",
    "    if turn % 4 == 2:\n",
    "        i = a - 1 - turn // 4\n",
    "        for j in range(i, a - i - 1, -1):\n",
    "            rez[i][j-1] = rez[i][j] + 1\n",
    "    if turn % 4 == 3:\n",
    "        j = turn // 4\n",
    "        for i in range(a - j - 1, j + 1, - 1):\n",
    "            rez[i - 1][j] = rez[i][j] + 1\n",
    "\n",
    "for i in rez:\n",
    "    for j in i:\n",
    "        print(j, end=\" \")\n",
    "    print() \n"
   ]
  },
  {
   "cell_type": "code",
   "execution_count": 80,
   "id": "c7776efd-9cfc-4345-9b0f-bf573868b691",
   "metadata": {},
   "outputs": [
    {
     "data": {
      "text/plain": [
       "2"
      ]
     },
     "execution_count": 80,
     "metadata": {},
     "output_type": "execute_result"
    }
   ],
   "source": [
    "10 % 4\n"
   ]
  },
  {
   "cell_type": "code",
   "execution_count": 71,
   "id": "f550dd53-8347-4aad-b604-860770d25ab1",
   "metadata": {},
   "outputs": [],
   "source": [
    "for j in range(4, 0):\n",
    "    print(j)"
   ]
  },
  {
   "cell_type": "code",
   "execution_count": null,
   "id": "96b7cb34-db27-4a67-9189-8b7162983538",
   "metadata": {},
   "outputs": [],
   "source": []
  }
 ],
 "metadata": {
  "kernelspec": {
   "display_name": "Python 3 (ipykernel)",
   "language": "python",
   "name": "python3"
  },
  "language_info": {
   "codemirror_mode": {
    "name": "ipython",
    "version": 3
   },
   "file_extension": ".py",
   "mimetype": "text/x-python",
   "name": "python",
   "nbconvert_exporter": "python",
   "pygments_lexer": "ipython3",
   "version": "3.8.5"
  }
 },
 "nbformat": 4,
 "nbformat_minor": 5
}
